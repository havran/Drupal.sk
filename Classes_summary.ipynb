{
  "nbformat": 4,
  "nbformat_minor": 0,
  "metadata": {
    "kernelspec": {
      "name": "python3",
      "display_name": "Python 3"
    },
    "toc": {
      "base_numbering": 1,
      "nav_menu": {},
      "number_sections": true,
      "sideBar": true,
      "skip_h1_title": false,
      "title_cell": "Table of Contents",
      "title_sidebar": "Contents",
      "toc_cell": false,
      "toc_position": {},
      "toc_section_display": true,
      "toc_window_display": true
    },
    "colab": {
      "name": "Classes_summary.ipynb",
      "provenance": [],
      "collapsed_sections": [],
      "toc_visible": true,
      "include_colab_link": true
    },
    "language_info": {
      "name": "python"
    }
  },
  "cells": [
    {
      "cell_type": "markdown",
      "metadata": {
        "id": "view-in-github",
        "colab_type": "text"
      },
      "source": [
        "<a href=\"https://colab.research.google.com/github/havran/Drupal.sk/blob/master/Classes_summary.ipynb\" target=\"_parent\"><img src=\"https://colab.research.google.com/assets/colab-badge.svg\" alt=\"Open In Colab\"/></a>"
      ]
    },
    {
      "cell_type": "markdown",
      "metadata": {
        "id": "AZ_Z7vNTg3an"
      },
      "source": [
        "# Syllabus - OOP in Python\n",
        "\n",
        "- Basics\n",
        "    - Atributes\n",
        "    - Methods\n",
        "    - Instance vs class\n",
        "    - Visibility\n",
        "    - Properties\n",
        "    - Naming conventions\n",
        "    - Special arguments (```*args```, ```**kwargs```)\n",
        "    - Abstract classes\n",
        "\n",
        "- Practical tips\n",
        "    - Basic principles: DRY, YAGNI, KISS, SOLID...\n",
        "    - Debugging with PDB\n",
        "    - Tools to help you improve your code\n",
        "\n",
        "- Further reading\n"
      ]
    },
    {
      "cell_type": "markdown",
      "metadata": {
        "id": "wbZlJay_g3ap"
      },
      "source": [
        "# Basic class elements\n",
        "\n",
        "Some of the elements that form a class will already be familiar to you if you have been working with Python before, like attributes (which are like variables) and methods (which are like functions).\n",
        "\n",
        "A simple class definition could look like this:\n"
      ]
    },
    {
      "cell_type": "code",
      "metadata": {
        "ExecuteTime": {
          "end_time": "2021-06-15T10:48:54.840852Z",
          "start_time": "2021-06-15T10:48:54.799647Z"
        },
        "id": "-DrSeP1Vg3aq"
      },
      "source": [
        "class Person:\n",
        "    def __init__(self, first_name: str, last_name: str, age: int):\n",
        "        self.first_name = first_name\n",
        "        self.last_name = last_name\n",
        "        self.age = age\n",
        "\n",
        "    def full_name(self) -> str:\n",
        "        return f\"{self.last_name}, {self.first_name}\""
      ],
      "execution_count": null,
      "outputs": []
    },
    {
      "cell_type": "code",
      "metadata": {
        "ExecuteTime": {
          "end_time": "2021-06-15T10:50:33.397091Z",
          "start_time": "2021-06-15T10:50:33.384728Z"
        },
        "id": "keHxjcbag3ar"
      },
      "source": [
        "jane = Person(first_name=\"Jane\", last_name=\"Doe\", age=\"30\")\n",
        "\n",
        "jane.full_name()"
      ],
      "execution_count": null,
      "outputs": []
    },
    {
      "cell_type": "markdown",
      "metadata": {
        "id": "XIv3D24Yg3as"
      },
      "source": [
        "Here we already see some of the main elements of the class:\n",
        "- ```class Person```: This is what defines the class, and the only thing that MUST be there. This just says that our class is called \"Person\", and that's how we'll have to reference it.\n",
        "- ```def __init__(...)```: This is a special method, also called a \"constructor\" in other languages. It will always start with a ```self``` argument, which is just a reference to the object we are creating, so that we can access its methods and attributes, and all the rest are parameters that we need to initialize instances of our class. In this case, when we want to create a new object of type ```Person```, we need to get a first name, last name and age. It's a good practice (and will save you headaches) to define all the attributes in this method, even if you want to have them set to ```None``` initially. Also, another difference with most methods is that it doesn't have a ```return``` statement on it, despite the fact that Python calls this method when we do something like ```jane = Person(...)```\n",
        "- ```def full_name```: This is a method that takes no extra arguments and returns a string (the self is required to access the instance attributes and methods, but we don't need to pass it explicitly).\n",
        "\n",
        "Classes can also extend or inherit from other classes. This is useful to organize and reuse your code, while keeping it maintainable. Imagine that we want to create a ```Student``` class, which is just like a person, but it will also have some extra information attached to it: the courses that the student is following. This is how we would define such a class:\n"
      ]
    },
    {
      "cell_type": "code",
      "metadata": {
        "ExecuteTime": {
          "end_time": "2021-06-15T10:50:47.973637Z",
          "start_time": "2021-06-15T10:50:47.966091Z"
        },
        "id": "Zm9-E2vKg3as"
      },
      "source": [
        "from typing import List\n",
        "\n",
        "class Student(Person):\n",
        "    def __init__(self, courses: List[str], **kwargs):\n",
        "        super().__init__(**kwargs)\n",
        "        self.courses = courses"
      ],
      "execution_count": null,
      "outputs": []
    },
    {
      "cell_type": "code",
      "metadata": {
        "ExecuteTime": {
          "end_time": "2021-06-15T10:51:36.785740Z",
          "start_time": "2021-06-15T10:51:36.780048Z"
        },
        "id": "veNpNuelg3as"
      },
      "source": [
        "courses = [\"Python\", \"More Python\", \"Software development (Python)\"]\n",
        "john = Student(first_name=\"John\", last_name=\"Doe\", age=\"20\", courses=courses)\n",
        "\n",
        "john.full_name()"
      ],
      "execution_count": null,
      "outputs": []
    },
    {
      "cell_type": "markdown",
      "metadata": {
        "id": "7sJ1Ptnsg3at"
      },
      "source": [
        "Let's go through the syntax for extending classes:\n",
        "\n",
        "- ```class Student(Person):```: This states that the ```Student``` class inherits from the ```Person``` class. In other words, we'll be able to do with the Student all that we can do with the Person class.\n",
        "- ```super().__init__(**kwargs)```: This makes sure that the constructor of the ```Person``` class is also called, so that the attributes we created there (first_name, last_name, age) are also initialized. We could have these arguments explicitly in our constructor, but it's a good practice to just capture any arguments that are not specific to our Student class and just \"forward\" them to the parent class, which is what we are doing with the ```kwargs``` argument. We'll cover more in detail this ```kwargs``` later.\n",
        "\n",
        "As a result, you can see that we just created a student and can use the ```full_name``` method from the ```Person``` class, although we don't have it explicitly defined in our ```Student``` class, and there are no names involved in our class definition. That's one of the powerful part with inheritance: you can reuse behavior without the need to know what the parent class is exactly doing, which in turn results in higher maintainability. For instance, if we want to adapt how the full_name method works, we only need to modify the ```Person``` class, not the ```Student``` class."
      ]
    },
    {
      "cell_type": "markdown",
      "metadata": {
        "id": "Dqz646hdqge8"
      },
      "source": [
        "## Practice\n",
        "\n",
        "Create a ```Worker``` class, which will have an two attributes: its profession (a string) and whether (s)he is looking for work or not (a boolean)"
      ]
    },
    {
      "cell_type": "code",
      "metadata": {
        "id": "s8rBixN61LcI"
      },
      "source": [
        ""
      ],
      "execution_count": null,
      "outputs": []
    },
    {
      "cell_type": "markdown",
      "metadata": {
        "id": "FWLSbITQg3at"
      },
      "source": [
        "## Instance vs class scope\n",
        "\n",
        "One thing that's important to know is when attributes and methods are part of an instance or part of a class. You can look at a class definition as a \"blueprint\" that tells Python how to materialize (or *instantiate*) new members of that class. In our examples, both ```jane``` and ```john``` are instances, whereas ```Person``` and ```Student``` are classes.\n",
        "\n",
        "Attributes and methods can belong to an *instance*, or to a *class*. In general:\n",
        "- Any method using the **self** is an instance method\n",
        "- Attributes that we define in the ```__init__``` are instance attributes. This is the type of attribute that you will be using more often, and it is what allows jane and john to have different values for ```first_name```, ```age```, etc.\n",
        "\n",
        "In contrast, class or static methods and attributes are attached to the \"blueprint\", and it means that you can access them without ever creating an instance, and that its value is shared by all instances (so if one of them modifies it, it changes for everyone). As a rule of thumb, make sure you have a good reason to use this kind of attributes and methods, and pay special attention to any modifications on these attributes, which might cause unexpected behavior.\n",
        "\n",
        "You can recognize class attributes because they are defined outside of the ```__init__``` or other methods:"
      ]
    },
    {
      "cell_type": "code",
      "metadata": {
        "ExecuteTime": {
          "end_time": "2021-06-15T11:10:02.418832Z",
          "start_time": "2021-06-15T11:10:02.412246Z"
        },
        "id": "Gh-Q_xkgg3au"
      },
      "source": [
        "class Person:\n",
        "    NUM_PEOPLE = 0\n",
        "    \n",
        "    def __init__(self, first_name: str, last_name: str, age: int):\n",
        "        self.first_name = first_name\n",
        "        self.last_name = last_name\n",
        "        self.age = age\n",
        "        Person.NUM_PEOPLE += 1\n",
        "\n",
        "    def full_name(self) -> str:\n",
        "        return f\"{self.last_name}, {self.first_name}\"\n",
        "\n",
        "    def num_people(self) -> int:\n",
        "        return self.NUM_PEOPLE"
      ],
      "execution_count": null,
      "outputs": []
    },
    {
      "cell_type": "code",
      "metadata": {
        "ExecuteTime": {
          "end_time": "2021-06-15T11:10:02.952122Z",
          "start_time": "2021-06-15T11:10:02.944952Z"
        },
        "id": "38FGfzsUg3au"
      },
      "source": [
        "p1 = Person(first_name=\"p\", last_name=\"1\", age=12)\n",
        "print(f\"Person.NUM_PEOPLE = {Person.NUM_PEOPLE} // p1.NUM_PEOPLE = {p1.NUM_PEOPLE} // p1.num_people = {p1.num_people()}\")\n",
        "p2 = Person(first_name=\"p\", last_name=\"2\", age=12)\n",
        "print(f\"Person.NUM_PEOPLE = {Person.NUM_PEOPLE} // p1.NUM_PEOPLE = {p1.NUM_PEOPLE} // p1.num_people = {p1.num_people()}\")\n",
        "p3 = Person(first_name=\"p\", last_name=\"3\", age=12)\n",
        "print(f\"Person.NUM_PEOPLE = {Person.NUM_PEOPLE} // p1.NUM_PEOPLE = {p1.NUM_PEOPLE} // p1.num_people = {p1.num_people()}\")\n",
        "p4 = Person(first_name=\"p\", last_name=\"4\", age=12)\n",
        "print(f\"Person.NUM_PEOPLE = {Person.NUM_PEOPLE} // p1.NUM_PEOPLE = {p1.NUM_PEOPLE} // p1.num_people = {p1.num_people()}\")"
      ],
      "execution_count": null,
      "outputs": []
    },
    {
      "cell_type": "markdown",
      "metadata": {
        "id": "K_zIO1N-g3av"
      },
      "source": [
        "### Things to pay attention to\n",
        "\n",
        "One thing that might look strange is that in the ```__init__```, we are referencing the class variable using the class name, and not the ```self``` keyword, while in the ```num_people``` method, we are using the self. The thing is that using the ```self``` in the init will create an instance variable with the same name as the class variable. Outside of the ```__init__```, when we use self.NUM_PEOPLE, it will first look for an instance variable with that name, and if there are none, it will look for a class variable with that name, which is why this example just works. But this is one of the mistakes one can make that might take a very long time to debug. If you had an instance variable, things would be different:"
      ]
    },
    {
      "cell_type": "code",
      "metadata": {
        "ExecuteTime": {
          "end_time": "2021-06-15T11:13:44.342768Z",
          "start_time": "2021-06-15T11:13:44.335323Z"
        },
        "id": "Upushapfg3av"
      },
      "source": [
        "class Person:\n",
        "    NUM_PEOPLE = 0\n",
        "    \n",
        "    def __init__(self, first_name: str, last_name: str, age: int):\n",
        "        self.first_name = first_name\n",
        "        self.last_name = last_name\n",
        "        self.age = age\n",
        "        self.NUM_PEOPLE += 1\n",
        "\n",
        "    def full_name(self) -> str:\n",
        "        return f\"{self.last_name}, {self.first_name}\"\n",
        "\n",
        "    def num_people(self) -> int:\n",
        "        return self.NUM_PEOPLE"
      ],
      "execution_count": null,
      "outputs": []
    },
    {
      "cell_type": "code",
      "metadata": {
        "ExecuteTime": {
          "end_time": "2021-06-15T11:13:45.967115Z",
          "start_time": "2021-06-15T11:13:45.960020Z"
        },
        "id": "7v2eQCmXg3aw"
      },
      "source": [
        "p1 = Person(first_name=\"p\", last_name=\"1\", age=12)\n",
        "print(f\"Person.NUM_PEOPLE = {Person.NUM_PEOPLE} // p1.NUM_PEOPLE = {p1.NUM_PEOPLE} // p1.num_people = {p1.num_people()}\")\n",
        "p2 = Person(first_name=\"p\", last_name=\"2\", age=12)\n",
        "print(f\"Person.NUM_PEOPLE = {Person.NUM_PEOPLE} // p1.NUM_PEOPLE = {p1.NUM_PEOPLE} // p1.num_people = {p1.num_people()}\")\n",
        "p3 = Person(first_name=\"p\", last_name=\"3\", age=12)\n",
        "print(f\"Person.NUM_PEOPLE = {Person.NUM_PEOPLE} // p1.NUM_PEOPLE = {p1.NUM_PEOPLE} // p1.num_people = {p1.num_people()}\")\n",
        "p4 = Person(first_name=\"p\", last_name=\"4\", age=12)\n",
        "print(f\"Person.NUM_PEOPLE = {Person.NUM_PEOPLE} // p1.NUM_PEOPLE = {p1.NUM_PEOPLE} // p1.num_people = {p1.num_people()}\")"
      ],
      "execution_count": null,
      "outputs": []
    },
    {
      "cell_type": "markdown",
      "metadata": {
        "id": "jSudw-iqg3aw"
      },
      "source": [
        "For class methods, they are pretty much like regular functions, except that they are decorated with the ```@staticmethod``` or ```@classmethod``` decorators. We won't be covering them on this course."
      ]
    },
    {
      "cell_type": "markdown",
      "metadata": {
        "id": "pOPLqcCsg3aw"
      },
      "source": [
        "## Visibility of attributes and methods\n",
        "\n",
        "Unlike other languages, in Python there is no formal notion of \"public\" and \"protected/private\" attributes and methods, but there is a convention for it: whenever an attribute or method starts with an underscore, it is considered to be protected, and it should not be accessed by client code (i.e. any code outside the class). What this means is that such attributes and methods are considered for internal use only, and are subject to change or be removed at any time, and that's why they should not be used from outside the class. While it might seem counterintuitive, this can help with maintenance, because you can very quickly know which parts of a class you can modify without breaking the rest of your program (or that's how it should be, at least)."
      ]
    },
    {
      "cell_type": "markdown",
      "metadata": {
        "id": "O5DSDcpI1V_A"
      },
      "source": [
        "## Properties\n",
        "\n",
        "There's a class element that is a mix of an attribute and a method: properties. Properties are actually methods, but they behave exactly like attributes, meaning that you can access them without parentheses, and you can (try to) set a value to them. They are very useful when you want to have values that are calculated on the fly (as it would be the case for our ```full_name``` in the ```Person``` class, when you want to have attributes that are \"read-only\", or when you want to validate the values before they can be modified."
      ]
    },
    {
      "cell_type": "markdown",
      "metadata": {
        "id": "8Ml_08qeg3ax"
      },
      "source": [
        "### Properties for calculated attributes\n",
        "\n",
        "For the case of calculated attributes, the only requirement is that the function you want to convert into a property can't take extra arguments. This is the case for our ```full_name``` method, so we can just go ahead and convert it into a property:"
      ]
    },
    {
      "cell_type": "code",
      "metadata": {
        "ExecuteTime": {
          "end_time": "2021-06-15T11:27:10.766723Z",
          "start_time": "2021-06-15T11:27:10.762005Z"
        },
        "id": "xXcAqcH9g3ax"
      },
      "source": [
        "class Person:\n",
        "    def __init__(self, first_name: str, last_name: str, age: int):\n",
        "        self.first_name = first_name\n",
        "        self.last_name = last_name\n",
        "        self.age = age\n",
        "    \n",
        "    @property\n",
        "    def full_name(self) -> str:\n",
        "        return f\"{self.last_name}, {self.first_name}\"\n"
      ],
      "execution_count": null,
      "outputs": []
    },
    {
      "cell_type": "code",
      "metadata": {
        "ExecuteTime": {
          "end_time": "2021-06-15T11:28:27.509517Z",
          "start_time": "2021-06-15T11:28:27.504034Z"
        },
        "id": "yhbjtXAZg3ax"
      },
      "source": [
        "jane = Person(first_name=\"Jane\", last_name=\"Doe\", age=12)\n",
        "\n",
        "jane.full_name"
      ],
      "execution_count": null,
      "outputs": []
    },
    {
      "cell_type": "markdown",
      "metadata": {
        "id": "t_1wEoeuRnuT"
      },
      "source": [
        "With this, we can access our ```full_name``` the exact same way that we access first_name, last_name and age, meaning that from the outside, we don't care if the actual implementation is an attribute or a property.\n",
        "\n",
        "**IMPORTANT**: In general, this kind of properties should only be used for \"light\" calculations. If you need to perform some heavy computation in a property, it is a good practice to \"cache\" the result in an attribute, although that introduces some complexity (e.g. when do you \"refresh\" your calculation?). This is how you could cache the ```full_name``` property:"
      ]
    },
    {
      "cell_type": "code",
      "metadata": {
        "id": "3VLV7bVfRr3V"
      },
      "source": [
        "class Person:\n",
        "    def __init__(self, first_name: str, last_name: str, age: int):\n",
        "        # This will be used to cache the calculated full_name\n",
        "        self._full_name = None\n",
        "        self.first_name = first_name\n",
        "        self.last_name = last_name\n",
        "        self.age = age\n",
        "    \n",
        "    @property\n",
        "    def full_name(self) -> str:\n",
        "        if self._full_name is None:\n",
        "          self._full_name = f\"{self.last_name}, {self.first_name}\"\n",
        "        \n",
        "        return self._full_name"
      ],
      "execution_count": null,
      "outputs": []
    },
    {
      "cell_type": "markdown",
      "metadata": {
        "id": "4co8UOL-Rw33"
      },
      "source": [
        "This will make full_name to be calculated only once, but introduces the problem that, whenever you change first_name or last_name, your value for full_name will become outdated, and you will need to add some extra code to deal with that. A common way to handle this would be to use properties for the other attributes, and set ```_full_name``` to ```None``` when we change first_name or last_name."
      ]
    },
    {
      "cell_type": "code",
      "metadata": {
        "id": "19zV2pZ6RwSC"
      },
      "source": [
        "jane = Person(first_name=\"Jane\", last_name=\"Doe\", age=12)\n",
        "\n",
        "print(jane.full_name)\n",
        "\n",
        "jane.first_name = \"Stacy\"\n",
        "\n",
        "print(jane.full_name)"
      ],
      "execution_count": null,
      "outputs": []
    },
    {
      "cell_type": "markdown",
      "metadata": {
        "id": "rOgvEoELg3ay"
      },
      "source": [
        "### Properties for read-only attributes\n",
        "\n",
        "Now, imagine that we need to add a new attribute to our class: the ```id_number```, and that we don't want this attribute to be changed from outside, but we still want to allow external code to read it. If we use an attribute, we have to either make it public (meaning that it's ok for external code to modify it) or protected (meaning that external code should not be reading it either). The solution for this is to create a protected attribute, and a property that exposes it:"
      ]
    },
    {
      "cell_type": "code",
      "metadata": {
        "ExecuteTime": {
          "end_time": "2021-06-15T11:32:01.883079Z",
          "start_time": "2021-06-15T11:32:01.877366Z"
        },
        "id": "cnT_fxMvg3ay"
      },
      "source": [
        "class Person:\n",
        "    def __init__(self, id_number: str, first_name: str, last_name: str, age: int):\n",
        "        self._id_number = id_number\n",
        "        self.first_name = first_name\n",
        "        self.last_name = last_name\n",
        "        self.age = age\n",
        "    \n",
        "    @property\n",
        "    def id_number(self) -> str:\n",
        "        return self._id_number\n",
        "    \n",
        "    @property\n",
        "    def full_name(self) -> str:\n",
        "        return f\"{self.last_name}, {self.first_name}\"\n"
      ],
      "execution_count": null,
      "outputs": []
    },
    {
      "cell_type": "code",
      "metadata": {
        "ExecuteTime": {
          "end_time": "2021-06-15T11:32:18.762676Z",
          "start_time": "2021-06-15T11:32:18.757193Z"
        },
        "id": "1WwA86SFg3az"
      },
      "source": [
        "jane = Person(id_number=\"XXX\", first_name=\"Jane\", last_name=\"Doe\", age=12)\n",
        "\n",
        "jane.id_number"
      ],
      "execution_count": null,
      "outputs": []
    },
    {
      "cell_type": "markdown",
      "metadata": {
        "id": "aefRuq1dg3az"
      },
      "source": [
        "Now, if we try to modify the id_number, we'll get an error:"
      ]
    },
    {
      "cell_type": "code",
      "metadata": {
        "ExecuteTime": {
          "end_time": "2021-06-15T11:32:41.820347Z",
          "start_time": "2021-06-15T11:32:41.791016Z"
        },
        "id": "XK_VmV71g3az"
      },
      "source": [
        "jane.id_number = \"YYY\""
      ],
      "execution_count": null,
      "outputs": []
    },
    {
      "cell_type": "markdown",
      "metadata": {
        "id": "FmceY-NNrJxr"
      },
      "source": [
        "#### Practice\n",
        "\n",
        "Convert the ```first_name```, ```last_name``` and ```age``` attributes to read-only properties"
      ]
    },
    {
      "cell_type": "code",
      "metadata": {
        "id": "PgNyaHr3rMCk"
      },
      "source": [
        "class Person:\n",
        "    def __init__(self, id_number: str, first_name: str, last_name: str, age: int):\n",
        "        self._id_number = id_number\n",
        "        # Convert these three attributes to read-only properties\n",
        "        self.first_name = first_name\n",
        "        self.last_name = last_name\n",
        "        self.age = age\n",
        "    \n",
        "    @property\n",
        "    def id_number(self) -> str:\n",
        "        return self._id_number\n",
        "    \n",
        "    @property\n",
        "    def full_name(self) -> str:\n",
        "        return f\"{self.last_name}, {self.first_name}\"\n"
      ],
      "execution_count": null,
      "outputs": []
    },
    {
      "cell_type": "markdown",
      "metadata": {
        "id": "gLq4md5qg3az"
      },
      "source": [
        "### Properties to validate attributes\n",
        "\n",
        "The use case we'll be covering for properties is to validate the values before we set them. When you implement a property, like we just did with the ```id_number``` by default it will be read-only (or in other languages, you'd say that we only have a ```getter``` for the attribute). If you want to allow external code to change it, you will need to implement another method, called a ```setter```.\n",
        "\n",
        "Right now, our code will allow setting negative values for the ```age``` attribute, but we don't want that. One solution for that is to implement age as a property, which basically means that we will turn it into a protected attribute and provide methods to read and write to it:"
      ]
    },
    {
      "cell_type": "code",
      "metadata": {
        "ExecuteTime": {
          "end_time": "2021-06-15T11:37:15.274104Z",
          "start_time": "2021-06-15T11:37:15.267684Z"
        },
        "id": "N9teGsXMg3a0"
      },
      "source": [
        "class Person:\n",
        "    def __init__(self, first_name: str, last_name: str, age: int):\n",
        "        self.first_name = first_name\n",
        "        self.last_name = last_name\n",
        "        self.age = age\n",
        "    \n",
        "    @property\n",
        "    def age(self) -> int:\n",
        "        return self._age\n",
        "    \n",
        "    @age.setter\n",
        "    def age(self, age: int):\n",
        "        assert age >= 0, \\\n",
        "            \"Age can not be negative!\"\n",
        "        self._age = age"
      ],
      "execution_count": null,
      "outputs": []
    },
    {
      "cell_type": "code",
      "metadata": {
        "ExecuteTime": {
          "end_time": "2021-06-15T11:37:31.136249Z",
          "start_time": "2021-06-15T11:37:31.129835Z"
        },
        "id": "nnzhRtH5g3a0"
      },
      "source": [
        "jane = Person(first_name=\"Jane\", last_name=\"Doe\", age=22)\n",
        "\n",
        "jane.age"
      ],
      "execution_count": null,
      "outputs": []
    },
    {
      "cell_type": "markdown",
      "metadata": {
        "id": "HBq29qnTg3a0"
      },
      "source": [
        "What happens now if we try to set a negative age?"
      ]
    },
    {
      "cell_type": "code",
      "metadata": {
        "ExecuteTime": {
          "end_time": "2021-06-15T11:37:43.234206Z",
          "start_time": "2021-06-15T11:37:43.199209Z"
        },
        "id": "pt0gMy03g3a0"
      },
      "source": [
        "jane.age = -5"
      ],
      "execution_count": null,
      "outputs": []
    },
    {
      "cell_type": "markdown",
      "metadata": {
        "id": "E698WfzYrmZg"
      },
      "source": [
        "#### Practice\n",
        "\n",
        "Add setters for ```first_name``` and ```last_name```, for instance you could check that they are not empty, or that they match a specific pattern.. Whatever you'd like to have as validation"
      ]
    },
    {
      "cell_type": "code",
      "metadata": {
        "id": "Q-SJRbwcrmCz"
      },
      "source": [
        "class Person:\n",
        "    def __init__(self, first_name: str, last_name: str, age: int):\n",
        "        self.age = age\n",
        "        # Add setters for these two properties\n",
        "        self._first_name = first_name\n",
        "        self._last_name = last_name\n",
        "\n",
        "    @property\n",
        "    def age(self) -> int:\n",
        "        return self._age\n",
        "    \n",
        "    @age.setter\n",
        "    def age(self, age: int):\n",
        "        assert age >= 0, \\\n",
        "            \"Age can not be negative!\"\n",
        "        self._age = age\n",
        "    \n",
        "    @property\n",
        "    def first_name(self) -> str:\n",
        "      return self._first_name\n",
        "    \n",
        "    @property\n",
        "    def last_name(self) -> str:\n",
        "      return self._last_name"
      ],
      "execution_count": null,
      "outputs": []
    },
    {
      "cell_type": "markdown",
      "metadata": {
        "id": "bQtISFDvQsdV"
      },
      "source": [
        "**IMPORTANT**: Remember what we just mentioned about caching the full_name? If you use setters for your first_name and last_name, you can then clear the full_name when changing them. It could look something like this:"
      ]
    },
    {
      "cell_type": "code",
      "metadata": {
        "id": "MnAES2MySCwz"
      },
      "source": [
        "class Person:\n",
        "    def __init__(self, first_name: str, last_name: str, age: int):\n",
        "        # This will be used to cache the calculated full_name\n",
        "        self._full_name = None\n",
        "        self.first_name = first_name\n",
        "        self.last_name = last_name\n",
        "        self.age = age\n",
        "\n",
        "    # ...\n",
        "      \n",
        "    @first_name.setter\n",
        "    def first_name(self, first_name: str) -> str:\n",
        "        self._full_name = None\n",
        "        self._first_name = first_name\n",
        "\n",
        "    # rest of code ...\n"
      ],
      "execution_count": null,
      "outputs": []
    },
    {
      "cell_type": "markdown",
      "metadata": {
        "id": "Edz8PzHBSnZx"
      },
      "source": [
        "With the change, our full_name should now be correct also after changing first_name and/or last_name."
      ]
    },
    {
      "cell_type": "markdown",
      "metadata": {
        "id": "yABNXRA4g3a1"
      },
      "source": [
        "## Naming conventions\n",
        "\n",
        " - For classes, the convention is to use camel case (also called \"capwords\" some times). Basically every word in the class name starts with a capital letter, without using underscodes to separate them, e.g. ```MyFirstClass```, and not \"my_first_class\", \"MYFIRSTCLASS\", etc. One possible exception to this are acronyms, where PEP8 recommends using all capital:\n",
        " \n",
        " ```quote\n",
        " Note: When using acronyms in CapWords, capitalize all the letters of the acronym. Thus HTTPServerError is better than HttpServerError.\n",
        " ```\n",
        "\n",
        "- For attributes and methods: use lowercase names, separating words with underscores, e.g. ```super_fancy_method```, ```some_random_value```, etc."
      ]
    },
    {
      "cell_type": "markdown",
      "metadata": {
        "id": "RuOHxXRp11I9"
      },
      "source": [
        "## Special arguments\n",
        "\n",
        "In methods (as for regular functions), there are two special arguments that you can use to capture arguments that are not explicitly defined in your function: ```*args``` and ```**kwargs```. Note that the names (```args``` and ```kwargs```) are just the convention, but you can use any other name that you find more descriptive. The important part are the unpack operators: ```*``` for lists, and ```**``` for dictionaries."
      ]
    },
    {
      "cell_type": "markdown",
      "metadata": {
        "id": "ea5XR0Vig3a1"
      },
      "source": [
        "### ```*args```\n",
        "\n",
        "```*args``` collects any argument that was passed without a keyword and that is not defined in the function. It is useful when you want to have a method that can take any number of arguments. Imagine that we want to implement a method to calculate the [harmonic mean](https://en.wikipedia.org/wiki/Harmonic_mean) of any number of elements. We could do something like this:"
      ]
    },
    {
      "cell_type": "code",
      "metadata": {
        "ExecuteTime": {
          "end_time": "2021-06-15T11:51:24.830566Z",
          "start_time": "2021-06-15T11:51:24.825814Z"
        },
        "id": "OOi2zMXLg3a1"
      },
      "source": [
        "def harmonic_mean(*numbers):\n",
        "    numerator = len(numbers)\n",
        "    denominator = sum([1 / number for number in numbers])\n",
        "    \n",
        "    return numerator / denominator"
      ],
      "execution_count": null,
      "outputs": []
    },
    {
      "cell_type": "code",
      "metadata": {
        "ExecuteTime": {
          "end_time": "2021-06-15T11:51:38.991084Z",
          "start_time": "2021-06-15T11:51:38.986798Z"
        },
        "id": "XHtcDR3tg3a1"
      },
      "source": [
        "harmonic_mean(1, 2)"
      ],
      "execution_count": null,
      "outputs": []
    },
    {
      "cell_type": "markdown",
      "metadata": {
        "id": "5mOzJmqkg3a1"
      },
      "source": [
        "### ```*kwargs```\n",
        "\n",
        "```*kwargs``` collects any argument that was passed with a keyword and that is not defined in the function. One good case for it is to just capture any extra parameters that we don't need and forward them to other functions, like we did when creating our ```Student``` class extending the ```Person``` class."
      ]
    },
    {
      "cell_type": "markdown",
      "metadata": {
        "id": "q5Kyvvh2g3a2"
      },
      "source": [
        "## Abstract classes\n",
        "\n",
        "Often times, you want to create a class that defines all the basic behavior, but that lets some details to be defined by the classes extending it. In such cases, you need a way to make sure that all child classes implement some specific methods, so that they will all be used the same way.\n",
        "\n",
        "For that, python has the [abc module](https://docs.python.org/3/library/abc.html), which includes the two elements we'll be introducing now: the ```ABC``` class (for Abstract Base Class) and the ```abstractmethod``` decorator.\n",
        "\n",
        "Suppose that we want to have a ```Transformer``` class, that takes a pandas DataFrame, applies some transformation to it, and returns a new DataFrame."
      ]
    },
    {
      "cell_type": "code",
      "metadata": {
        "ExecuteTime": {
          "end_time": "2021-06-15T14:00:05.892456Z",
          "start_time": "2021-06-15T14:00:05.888442Z"
        },
        "id": "TEUKJWYIg3a2"
      },
      "source": [
        "from abc import ABC, abstractmethod\n",
        "\n",
        "import pandas as pd\n",
        "\n",
        "\n",
        "class Transformer(ABC):\n",
        "    @abstractmethod\n",
        "    def transform(self, df: pd.DataFrame, **kwargs) -> pd.DataFrame:\n",
        "        pass"
      ],
      "execution_count": null,
      "outputs": []
    },
    {
      "cell_type": "markdown",
      "metadata": {
        "id": "bQXAC7l_g3a2"
      },
      "source": [
        "What happens if you try to instantiate the ```Transformer``` class?"
      ]
    },
    {
      "cell_type": "code",
      "metadata": {
        "ExecuteTime": {
          "end_time": "2021-06-15T14:00:07.714331Z",
          "start_time": "2021-06-15T14:00:07.683967Z"
        },
        "id": "1gOUXetIg3a2"
      },
      "source": [
        "Transformer()"
      ],
      "execution_count": null,
      "outputs": []
    },
    {
      "cell_type": "markdown",
      "metadata": {
        "id": "Qn1iR-4Vg3a2"
      },
      "source": [
        "What this error is telling us is that, in order to be able to instantiate the class, we still need to define the ```transform``` method, which we can do in a child class:"
      ]
    },
    {
      "cell_type": "code",
      "metadata": {
        "ExecuteTime": {
          "end_time": "2021-06-15T14:03:05.233008Z",
          "start_time": "2021-06-15T14:03:05.228060Z"
        },
        "id": "VyP_1YJCg3a3"
      },
      "source": [
        "from typing import Dict\n",
        "import numpy as np\n",
        "\n",
        "\n",
        "class ImputeZeroTransformer(Transformer):\n",
        "    def __init__(self, columns_to_impute: List[str], **kwargs):\n",
        "        super().__init__(**kwargs)\n",
        "        self.columns_to_impute = columns_to_impute\n",
        "    \n",
        "    def transform(self, df: pd.DataFrame, **kwargs) -> pd.DataFrame:\n",
        "        df[self.columns_to_impute] = df[self.columns_to_impute].fillna(0)\n",
        "\n",
        "\n",
        "        return df"
      ],
      "execution_count": null,
      "outputs": []
    },
    {
      "cell_type": "code",
      "metadata": {
        "ExecuteTime": {
          "end_time": "2021-06-15T14:03:05.914116Z",
          "start_time": "2021-06-15T14:03:05.910634Z"
        },
        "id": "5_HI9qWOg3a3"
      },
      "source": [
        "df = pd.DataFrame([[np.nan, 2, np.nan, 0],\n",
        "                   [3, 4, np.nan, 1],\n",
        "                   [np.nan, np.nan, np.nan, 5],\n",
        "                   [np.nan, 3, np.nan, 4]],\n",
        "                  columns=[\"a\", \"b\", \"c\", \"d\"])\n",
        "\n",
        "imputer = ImputeZeroTransformer(columns_to_impute=[\"a\", \"c\"])\n",
        "\n",
        "imputed_df = imputer.transform(df)\n",
        "\n",
        "imputed_df.head()"
      ],
      "execution_count": null,
      "outputs": []
    },
    {
      "cell_type": "markdown",
      "metadata": {
        "id": "E_rR6meog3a3"
      },
      "source": [
        "What's the advantage of this? If we now create a new type of Transformer, say one that imputes the mean instead of zero, all we will need to change is the code that instantiates this imputer. The rest of code using it can stay the same, because both classes have the same interface, i.e. both of them have a ```transform``` method that takes a ```df``` argument."
      ]
    },
    {
      "cell_type": "markdown",
      "metadata": {
        "id": "EEe6SqcRzsQY"
      },
      "source": [
        "### Practice\n",
        "\n",
        "Implement an ```ImputeMeanTransformer``` class, and apply that transformer to ```imputed_df```'s column \"b\""
      ]
    },
    {
      "cell_type": "code",
      "metadata": {
        "id": "MdN0cW8nztAS"
      },
      "source": [
        "from typing import Dict\n",
        "import numpy as np\n",
        "\n",
        "\n",
        "class ImputeMeanTransformer(Transformer):\n",
        "    def __init__(self, columns_to_impute: List[str], **kwargs):\n",
        "        super().__init__(**kwargs)\n",
        "        self.columns_to_impute = columns_to_impute\n",
        "    \n",
        "    def transform(self, df: pd.DataFrame, **kwargs) -> pd.DataFrame:\n",
        "        # Your code here\n",
        "\n",
        "        return df"
      ],
      "execution_count": null,
      "outputs": []
    },
    {
      "cell_type": "markdown",
      "metadata": {
        "id": "lb2TIbBcg3a3"
      },
      "source": [
        "# Practical tips\n"
      ]
    },
    {
      "cell_type": "markdown",
      "metadata": {
        "id": "ZtNQSbpS01gN"
      },
      "source": [
        "## Basic coding principles / rules of thumb"
      ]
    },
    {
      "cell_type": "markdown",
      "metadata": {
        "id": "PCTQ-2lg02oG"
      },
      "source": [
        "### DRY - Do not Repeat Your self\n",
        "\n",
        "As opposite to WET (Write Everything Twice). Taken to the extreme, this principle translates to \"every time you write a block of code that you've already written, move it to its own function\". This will definitely help you for somewhat complex or long blocks of code; you don't want to write them twice.\n",
        "\n",
        "In practice, there are cases where it's not a big deal if you have a bit of the code which is the same, but in general, try to not have big / complex duplicated blocks. If you duplicate big blocks of code, it will quickly become painful to maintain. If you duplicate complex blocks of code, you are multiplying the chances of making a mistake.\n",
        "\n",
        "[Link](https://en.wikipedia.org/wiki/Don%27t_repeat_yourself#:~:text=Don%27t%20repeat%20yourself%20(DRY,data%20normalization%20to%20avoid%20redundancy.)"
      ]
    },
    {
      "cell_type": "markdown",
      "metadata": {
        "id": "9fxxP4q409IR"
      },
      "source": [
        "### YAGNI - You Aren't Gonna Need It\n",
        "\n",
        "As [Martin Fowler puts it](https://martinfowler.com/bliki/Yagni.html):\n",
        "\n",
        "```quote\n",
        "It's a statement that some capability we presume our software needs in the future should not be built now because \"you aren't gonna need it\".\n",
        "```\n",
        "\n",
        "Often times, we start adding more and more functionality to our program just because we think we will need it in the future, even if we don't need it right now. This introduces several problems:\n",
        "\n",
        "- We take more time to develop our program\n",
        "- Because we have more code, we will also take more time maintaining it\n",
        "- Often times, the extra features that we thinki we will need are not needed, or are needed but with different requirements.\n",
        "\n",
        "So just take this principle as \"don't overengineer\" / \"don't overthink\" your code. You need to make sure you write good code, but you don't need to write a framework that can support Tensorflow, PyTorch, Spark and Sklearn if all you need right now is to use Sklearn models."
      ]
    },
    {
      "cell_type": "markdown",
      "metadata": {
        "id": "Ea_dWIYo1AqH"
      },
      "source": [
        "### KISS - Keep it simple, stupid\n",
        "\n",
        "This principle goes a bit inline with the YAGNI principle. The thing to keep in mind here is **simple things should be simple, complex things should be possible**. If you find yourself having to add a long function plus a lot of configuration to do something that would normally take a line of code, there's probably something to review/rethink in your code."
      ]
    },
    {
      "cell_type": "markdown",
      "metadata": {
        "id": "z6qQYMov1Cwg"
      },
      "source": [
        "### SOLID\n",
        "\n",
        "One last set of principles that can be useful as you get more familiar with object-oriented programming are the SOLID principles. There's a lot to cover on this is, so we just mention them as a pointer for people who are interested on improving their software design knowledge further.\n",
        "\n",
        "The idea behind these principles is to help you develop more robust code that's also easier to maintain, while keeping a design that allows you to keep extending it. There's an interesting explanation of the principles [here](https://medium.com/backticks-tildes/the-s-o-l-i-d-principles-in-pictures-b34ce2f1e898), but you can find lots of resources talking about SOLID with a quick search.\n",
        "\n",
        "- **S** - Single responsibility principle: A class should have a single responsibility\n",
        "- **O** - Open/closed principle: A class should be open for extension, but closed for modification\n",
        "- **L** - Liskov's substitution principle: If a class is a subtype of another class, the you should be able to use instances of the child class in programs, instead of instances the parent class.\n",
        "- **I** - Interface segregation principle: Try to split your interfaces into smaller pieces. Client code should not depend on functions that it doesn't need\n",
        "- **D** - Abstractions should not depend on details."
      ]
    },
    {
      "cell_type": "markdown",
      "metadata": {
        "id": "GtJZZW361FTi"
      },
      "source": [
        "### \"Best code is deleted code\"\n",
        "\n",
        "It might sound strange, but deleting code that you don't need anymore is important. Otherwise, what usually happens is that you end up with a code base that's a mix of code that's used and code that's actually not needed anymore but that is still there \"just in case\", although eventually no one will really know why, and also no one is 100% sure if that code can be removed or not anymore. Plus, when using Git you will always have the option to revert back to old versions of your code, so if you really need to keep some code just in case, perhaps it would be better to investigate how to use things like git tags for that, and making sure that your most recent version is all clean from dead code.\n",
        "\n",
        "As a bonus, the less code you have, the less maintenance time you will need."
      ]
    },
    {
      "cell_type": "markdown",
      "metadata": {
        "id": "2aWzhBfig3a3"
      },
      "source": [
        "\n",
        "\n",
        "### Approach for writing complex functionalities\n",
        "\n",
        "When you try to code a complex function that you want to be able to generalize, it is often good to do it in small steps, for instance:\n",
        "\n",
        "- Make the code work for a single instance\n",
        "- Next, extend it so it works for one more instance\n",
        "- Finally, generalize it so that it works for any instance.\n",
        "\n",
        "While this might take a bit more time, during the first two steps you will usually figure out what you need the code to do, and how to make it more general, rather than trying to figure out the final solution from the beginning, which might be too complex in some cases.\n"
      ]
    },
    {
      "cell_type": "markdown",
      "metadata": {
        "id": "_gRZ1M0sg3a3"
      },
      "source": [
        "## Debugging with pdb"
      ]
    },
    {
      "cell_type": "markdown",
      "metadata": {
        "id": "mlTdQPqvg3a4"
      },
      "source": [
        "Sometimes you will want to debug your code to see what's exactly happening within a function or class. You might need to inspect some local variables and make some other checks in order to understand what's the problem. One tool you have available for that is ```pdb``` ([The Python Debugger](https://docs.python.org/3/library/pdb.html)). Many IDEs will already have some debugger built-in, but if you're coding in a notebook, you might still want to debug your code.\n",
        "\n",
        "The basic idea is very simple: whenever you want to inspect what's going on inside a function, you import ```pdb``` and make sure your code stops by calling ```pdb.set_trace()```. After that, your code execution will stop and you will get a prompt where you can inspect local variables or execute arbitrary code. In that prompt, you have several \"keys\" you can use to control what happens next. Here's a [link to a more comprehensive list of them](https://www.digitalocean.com/community/tutorials/how-to-use-the-python-debugger), but we'll cover the very basic commands for now:\n",
        "\n",
        "- ```h``` / ```help```: This is the one command you should make sure of remembering :p\n",
        "- ```n``` / ```next```: Executes the current line and stops at the next one. This option does not stop inside the code of called functions, e.g. if you have a line like ```my_result = call_some_function()```, you will not be debugging the code inside ```call_some_function```.\n",
        "- ```s``` / ```step```: This behaves like ```next``` in most cases, but if your line calls another function, you will also be going line by line through the code of that function.\n",
        "- ```a``` / ```args```: Print the list of arguments passed to the current funciton.\n",
        "- ```c``` / ```continue```: Resume normal execution of the rest of the program\n",
        "- ```r``` / ```return```: Continues execution of the current function\n",
        "- ```q``` / ```quit```: Aborts the execution\n",
        "\n",
        "Imagine a simple function like this:"
      ]
    },
    {
      "cell_type": "code",
      "metadata": {
        "ExecuteTime": {
          "end_time": "2021-06-15T12:48:13.787937Z",
          "start_time": "2021-06-15T12:48:13.782320Z"
        },
        "id": "mmOHfH2Cg3a4"
      },
      "source": [
        "def harmonic_mean(val1, val2):\n",
        "    hmean = 2 / (1/val1 + 1/val2)\n",
        "    return hmean\n",
        "\n",
        "def do_stuff(val1, val2, val3, val4):\n",
        "    hmean1 = harmonic_mean(val1, val2)\n",
        "    hmean2 = harmonic_mean(val3, val4)\n",
        "    hmean3 = harmonic_mean(hmean1, hmean2)\n",
        "    \n",
        "    return hmean3"
      ],
      "execution_count": null,
      "outputs": []
    },
    {
      "cell_type": "code",
      "metadata": {
        "ExecuteTime": {
          "end_time": "2021-06-15T12:48:14.433332Z",
          "start_time": "2021-06-15T12:48:14.427843Z"
        },
        "id": "-nIxCgOLg3a4"
      },
      "source": [
        "import random\n",
        "\n",
        "do_stuff(random.randint(0, 100), random.randint(0, 100), random.randint(0, 100), random.randint(0, 100))"
      ],
      "execution_count": null,
      "outputs": []
    },
    {
      "cell_type": "markdown",
      "metadata": {
        "id": "4rr8ELiEg3a4"
      },
      "source": [
        "### Practice\n",
        "\n",
        "Now, use pdb to debug it, see what the values for ```hmean1``` and ```hmean2``` are, how to debug / skip debugging of the code in ```harmonic_mean```, etc. For instance, try to do the following:\n",
        "\n",
        "- Check what's the value of the arguments\n",
        "- Continue until you can know the value of ```hmean1```, without debugging inside the ```harmonic_mean``` function\n",
        "- Continue until you can know the value of ```hmean2```, debugging inside the ```harmonic_mean``` function\n",
        "- Continue the rests of the code until the ```return``` statement, then check the value of hmean3\n",
        "- Try again but this time just quite the execution after calculating hmean1"
      ]
    },
    {
      "cell_type": "code",
      "metadata": {
        "ExecuteTime": {
          "end_time": "2021-06-15T12:55:19.615383Z",
          "start_time": "2021-06-15T12:55:19.609991Z"
        },
        "id": "WvyUbHmZg3a4"
      },
      "source": [
        "import pdb\n",
        "\n",
        "def harmonic_mean(val1, val2):\n",
        "    hmean = 2 / (1/val1 + 1/val2)\n",
        "    return hmean\n",
        "\n",
        "def do_stuff(val1, val2, val3, val4):\n",
        "    pdb.set_trace()\n",
        "    hmean1 = harmonic_mean(val1, val2)\n",
        "    hmean2 = harmonic_mean(val3, val4)\n",
        "    hmean3 = harmonic_mean(hmean1, hmean2)\n",
        "    \n",
        "    return hmean3"
      ],
      "execution_count": null,
      "outputs": []
    },
    {
      "cell_type": "code",
      "metadata": {
        "ExecuteTime": {
          "end_time": "2021-06-15T12:56:20.195874Z",
          "start_time": "2021-06-15T12:55:40.077254Z"
        },
        "id": "WsdrzDqgg3a5"
      },
      "source": [
        "do_stuff(random.randint(0, 100), random.randint(0, 100), random.randint(0, 100), random.randint(0, 100))"
      ],
      "execution_count": null,
      "outputs": []
    },
    {
      "cell_type": "markdown",
      "metadata": {
        "id": "xqWEVU8ng3a5"
      },
      "source": [
        "## Tools to help you improve your code\n",
        "\n",
        "Often times, if you use IDEs, they will already include tools that detect issues in your code, unused imports and variables, etc. At the end they usually rely on other tools, such as the ones we mention below (or similar ones)\n",
        "\n",
        "- [PyLint](https://www.pylint.org/), [Flake8](https://flake8.pycqa.org/en/latest/). These two are \"linters\", which are tools that will go through your code and check for issues with the PEP8 standards, unused imports and variables, etc.\n",
        "- [Black](https://github.com/psf/black) is a tool that can format your code to comply with the PEP8 standards, and other good practices such as \"doing one thing per line\". As an extra benefit, it provides consistency in how the code looks when multiple people work together, so the code base will look more homogeneus.\n",
        "- [MyPy](http://mypy-lang.org/): It was created among others, by Guido Van Rossum (the creator of Python), and performs static code analysis to make sure that the different arguments passed to functions, their return types, etc are correct. Because this analyzes the code statically, it is based on the type hints that you define, which means you don't have a 100% certainty that the behavior at runtime will be the same, but it will already capture most mistakes if you do use type hints properly."
      ]
    },
    {
      "cell_type": "markdown",
      "metadata": {
        "id": "K9rAyR6h1_6k"
      },
      "source": [
        "# Further reading"
      ]
    },
    {
      "cell_type": "markdown",
      "metadata": {
        "id": "KLX6WJ612B60"
      },
      "source": [
        "## Books\n",
        "\n",
        "- [Clean code in Python](https://www.amazon.com/Clean-Code-Python-Refactor-legacy/dp/1788835832): Focuses on practices to develop better code, as well as the SOLID principles"
      ]
    },
    {
      "cell_type": "markdown",
      "metadata": {
        "id": "Xy8k6bqD2DiY"
      },
      "source": [
        "## Courses\n",
        "\n",
        "- [Python for everybody](https://www.py4e.com/): Can be taken for free, or via Coursera / EDX if you want a certificate. It covers pretyy much all of the Python essentials"
      ]
    },
    {
      "cell_type": "markdown",
      "metadata": {
        "id": "welHy7NAg3a5"
      },
      "source": [
        "\n",
        "\n",
        "## Topics to investigate\n",
        "\n",
        "- SOLID principles: There's plenty of online resources for this. It is a good set of principles to learn and embrace if you want to dive deeper into object-oriented programming, and even if you go to functional programming, you can apply some of the principles there as well."
      ]
    },
    {
      "cell_type": "code",
      "metadata": {
        "id": "svHr64Yyg3a5"
      },
      "source": [
        ""
      ],
      "execution_count": null,
      "outputs": []
    },
    {
      "cell_type": "code",
      "metadata": {
        "id": "5tJ7t9K6g3a5"
      },
      "source": [
        ""
      ],
      "execution_count": null,
      "outputs": []
    }
  ]
}